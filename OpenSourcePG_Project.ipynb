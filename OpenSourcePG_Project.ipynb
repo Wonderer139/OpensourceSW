{
  "nbformat": 4,
  "nbformat_minor": 0,
  "metadata": {
    "colab": {
      "name": "OpenSourcePG_Project.ipynb",
      "provenance": [],
      "collapsed_sections": []
    },
    "kernelspec": {
      "display_name": "Python 3",
      "name": "python3"
    },
    "language_info": {
      "name": "python"
    }
  },
  "cells": [
    {
      "cell_type": "markdown",
      "metadata": {
        "id": "aB18HooWPM2w"
      },
      "source": [
        "# **0. API 선언**"
      ]
    },
    {
      "cell_type": "code",
      "metadata": {
        "id": "iG2VviSmAKp8"
      },
      "source": [
        "import numpy as np\n",
        "import matplotlib.pyplot as plt\n",
        "import random\n",
        "import pandas as pd\n",
        "import sklearn\n",
        "import tensorflow as tf\n",
        "from sklearn.model_selection import train_test_split\n",
        "from sklearn.preprocessing import StandardScaler\n",
        "\n",
        "R=1 #랜덤 스테이트"
      ],
      "execution_count": 1,
      "outputs": []
    },
    {
      "cell_type": "markdown",
      "metadata": {
        "id": "NuPd6qyOPTQ3"
      },
      "source": [
        "# **1. 데이터 로드 및 표준화**"
      ]
    },
    {
      "cell_type": "markdown",
      "metadata": {
        "id": "ty2a5UgRUPaL"
      },
      "source": [
        "### 1-1. 데이터 불러오기"
      ]
    },
    {
      "cell_type": "code",
      "metadata": {
        "colab": {
          "base_uri": "https://localhost:8080/"
        },
        "id": "v6bs2cncAPL0",
        "outputId": "a1ea184a-a2dd-4c8d-92d6-da399b561908"
      },
      "source": [
        "# 데이터파일 불러오기\n",
        "fashion_mnist = tf.keras.datasets.fashion_mnist\n",
        "(train_images, train_labels), (test_images, test_labels) = fashion_mnist.load_data() #데이터셋 다운로드\n",
        "\n",
        "test_images.resize(10000,784)\n",
        "test_labels.resize(10000,1)\n",
        "test_data = np.concatenate((test_labels, test_images), axis = 1)\n",
        "\n",
        "df = pd.DataFrame(test_data) #테스트 데이터만 사용(10000개)\n",
        "\n",
        "df.rename(columns={0:'label'}, inplace=True)\n",
        "print(df)\n",
        "\n",
        "#-------------------------------------------------------------------------------\n",
        "Top_df = df.copy() #상의 분류용 데이터셋\n",
        "for i in (1,5,7,8,9):\n",
        "  Top_idx = Top_df[Top_df['label'] == i].index\n",
        "  Top_df = Top_df.drop(Top_idx)\n",
        "#Top_df.loc[Top_df['label'] == 6, 'label'] = 0 #3차 분류용\n",
        "#Top_df.loc[Top_df['label'] == 4, 'label'] = 2\n",
        "print(Top_df)\n",
        "#-------------------------------------------------------------------------------\n",
        "Shoes_df = df.copy() #신발 분류용 데이터셋\n",
        "for i in (0,1,2,3,4,6,8):\n",
        "  Shoes_idx = Shoes_df[Shoes_df['label'] == i].index\n",
        "  Shoes_df = Shoes_df.drop(Shoes_idx)\n",
        "print(Shoes_df)\n",
        "#-------------------------------------------------------------------------------\n",
        "First_df = df.copy() #1차 분류용 데이터셋\n",
        "First_df.rename(columns={0:'label'}, inplace=True)\n",
        "for i in (0,2,3,4,6) :\n",
        "  First_df.loc[First_df['label'] == i, 'label'] = 0\n",
        "for i in (5,7,9) :\n",
        "  First_df.loc[First_df['label'] == i, 'label'] = 5\n",
        "print(First_df)\n",
        "#-------------------------------------------------------------------------------\n",
        "Shirt_df = df.copy() #티셔츠:셔츠 분류용 데이터셋(미사용)\n",
        "for i in (1,2,3,4,5,7,8,9):\n",
        "  Shirt_idx = Shirt_df[Shirt_df['label'] == i].index\n",
        "  Shirt_df = Shirt_df.drop(Shirt_idx)\n",
        "print(Shirt_df)\n",
        "#-------------------------------------------------------------------------------\n",
        "SweCoat_df = df.copy() #스웨터:코트 분류용 데이터셋(미사용)\n",
        "SweCoat_df.rename(columns={0:'label'}, inplace=True)\n",
        "for i in (0,1,3,5,6,7,8,9):\n",
        "  SweCoat_idx = SweCoat_df[SweCoat_df['label'] == i].index\n",
        "  SweCoat_df = SweCoat_df.drop(SweCoat_idx)\n",
        "print(SweCoat_df)\n",
        "\n",
        "#print(df)\n"
      ],
      "execution_count": 2,
      "outputs": [
        {
          "output_type": "stream",
          "name": "stdout",
          "text": [
            "Downloading data from https://storage.googleapis.com/tensorflow/tf-keras-datasets/train-labels-idx1-ubyte.gz\n",
            "32768/29515 [=================================] - 0s 0us/step\n",
            "40960/29515 [=========================================] - 0s 0us/step\n",
            "Downloading data from https://storage.googleapis.com/tensorflow/tf-keras-datasets/train-images-idx3-ubyte.gz\n",
            "26427392/26421880 [==============================] - 0s 0us/step\n",
            "26435584/26421880 [==============================] - 0s 0us/step\n",
            "Downloading data from https://storage.googleapis.com/tensorflow/tf-keras-datasets/t10k-labels-idx1-ubyte.gz\n",
            "16384/5148 [===============================================================================================] - 0s 0us/step\n",
            "Downloading data from https://storage.googleapis.com/tensorflow/tf-keras-datasets/t10k-images-idx3-ubyte.gz\n",
            "4423680/4422102 [==============================] - 0s 0us/step\n",
            "4431872/4422102 [==============================] - 0s 0us/step\n",
            "      label  1  2  3  4  5  6  7  ...  777  778  779  780  781  782  783  784\n",
            "0         9  0  0  0  0  0  0  0  ...    0    0    0    0    0    0    0    0\n",
            "1         2  0  0  0  0  0  0  0  ...    0    3  174  189   67    0    0    0\n",
            "2         1  0  0  0  0  0  0  0  ...    0    0    0    0    0    0    0    0\n",
            "3         1  0  0  0  0  0  0  0  ...    0    0    0    0    0    0    0    0\n",
            "4         6  0  0  0  2  0  1  1  ...    0    0    0    0    0    0    0    0\n",
            "...     ... .. .. .. .. .. .. ..  ...  ...  ...  ...  ...  ...  ...  ...  ...\n",
            "9995      9  0  0  0  0  0  0  0  ...    0    0    0    0    0    0    0    0\n",
            "9996      1  0  0  0  0  0  0  0  ...    0    0    0    0    0    0    0    0\n",
            "9997      8  0  0  0  0  0  0  0  ...    0    0    0    0    0    0    0    0\n",
            "9998      1  0  0  0  0  0  0  0  ...    0    0    0    0    0    0    0    0\n",
            "9999      5  0  0  0  0  0  0  0  ...    0    0    0    0    0    0    0    0\n",
            "\n",
            "[10000 rows x 785 columns]\n",
            "      label  1  2  3  4  5  6  7  ...  777  778  779  780  781  782  783  784\n",
            "1         2  0  0  0  0  0  0  0  ...    0    3  174  189   67    0    0    0\n",
            "4         6  0  0  0  2  0  1  1  ...    0    0    0    0    0    0    0    0\n",
            "6         4  0  0  0  0  0  0  0  ...   36   30   27   27    0    0    0    0\n",
            "7         6  0  0  0  0  0  0  0  ...    0   35   84   55    0    0    0    0\n",
            "10        4  0  0  0  0  0  0  0  ...    0   29  145  137   59    0    0    0\n",
            "...     ... .. .. .. .. .. .. ..  ...  ...  ...  ...  ...  ...  ...  ...  ...\n",
            "9981      0  0  0  0  0  0  0  0  ...  145   81    0    0    0    0    0    0\n",
            "9984      3  0  0  0  0  0  0  0  ...    5    0    0    0    0    0    0    0\n",
            "9985      2  0  0  0  0  0  0  0  ...   63    0    0    1    0    0    0    0\n",
            "9989      4  0  0  0  0  0  0  0  ...    0  134  143   46    0    0    0    0\n",
            "9991      6  0  0  0  0  0  0  0  ...    0    0    0    0    0    0    0    0\n",
            "\n",
            "[5000 rows x 785 columns]\n",
            "      label  1  2  3  4  5  6  7  ...  777  778  779  780  781  782  783  784\n",
            "0         9  0  0  0  0  0  0  0  ...    0    0    0    0    0    0    0    0\n",
            "8         5  0  0  0  0  0  0  0  ...    0    0    0    0    0    0    0    0\n",
            "9         7  0  0  0  0  0  0  0  ...    0    0    0    0    0    0    0    0\n",
            "11        5  0  0  0  0  0  0  0  ...    0    0    0    0    0    0    0    0\n",
            "12        7  0  0  0  0  0  0  0  ...    0    0    0    0    0    0    0    0\n",
            "...     ... .. .. .. .. .. .. ..  ...  ...  ...  ...  ...  ...  ...  ...  ...\n",
            "9987      5  0  0  0  0  0  0  0  ...    0    0    0    0    0    0    0    0\n",
            "9990      5  0  0  0  0  0  0  0  ...    0    4    0   80   77    0    0    0\n",
            "9993      9  0  0  0  0  0  0  0  ...    0    0    0    0    0    0    0    0\n",
            "9995      9  0  0  0  0  0  0  0  ...    0    0    0    0    0    0    0    0\n",
            "9999      5  0  0  0  0  0  0  0  ...    0    0    0    0    0    0    0    0\n",
            "\n",
            "[3000 rows x 785 columns]\n",
            "      label  1  2  3  4  5  6  7  ...  777  778  779  780  781  782  783  784\n",
            "0         5  0  0  0  0  0  0  0  ...    0    0    0    0    0    0    0    0\n",
            "1         0  0  0  0  0  0  0  0  ...    0    3  174  189   67    0    0    0\n",
            "2         1  0  0  0  0  0  0  0  ...    0    0    0    0    0    0    0    0\n",
            "3         1  0  0  0  0  0  0  0  ...    0    0    0    0    0    0    0    0\n",
            "4         0  0  0  0  2  0  1  1  ...    0    0    0    0    0    0    0    0\n",
            "...     ... .. .. .. .. .. .. ..  ...  ...  ...  ...  ...  ...  ...  ...  ...\n",
            "9995      5  0  0  0  0  0  0  0  ...    0    0    0    0    0    0    0    0\n",
            "9996      1  0  0  0  0  0  0  0  ...    0    0    0    0    0    0    0    0\n",
            "9997      8  0  0  0  0  0  0  0  ...    0    0    0    0    0    0    0    0\n",
            "9998      1  0  0  0  0  0  0  0  ...    0    0    0    0    0    0    0    0\n",
            "9999      5  0  0  0  0  0  0  0  ...    0    0    0    0    0    0    0    0\n",
            "\n",
            "[10000 rows x 785 columns]\n",
            "      label  1  2  3  4  5  6  7  ...  777  778  779  780  781  782  783  784\n",
            "4         6  0  0  0  2  0  1  1  ...    0    0    0    0    0    0    0    0\n",
            "7         6  0  0  0  0  0  0  0  ...    0   35   84   55    0    0    0    0\n",
            "19        0  0  0  0  0  0  0  0  ...  148    0    0    1    0    0    0    0\n",
            "26        6  0  0  0  0  0  0  0  ...    0    0    7   23    0    0    0    0\n",
            "27        0  0  0  0  0  0  0  0  ...    0    0    0    0    0    0    0    0\n",
            "...     ... .. .. .. .. .. .. ..  ...  ...  ...  ...  ...  ...  ...  ...  ...\n",
            "9977      6  0  0  0  1  1  0  0  ...   28   56   57    0    0    0    0    0\n",
            "9979      6  0  0  0  0  0  0  0  ...  111   12    0    1    0    0    0    0\n",
            "9980      0  0  0  0  0  0  3  0  ...  157    0    0    3    0    0    0    0\n",
            "9981      0  0  0  0  0  0  0  0  ...  145   81    0    0    0    0    0    0\n",
            "9991      6  0  0  0  0  0  0  0  ...    0    0    0    0    0    0    0    0\n",
            "\n",
            "[2000 rows x 785 columns]\n",
            "      label  1  2  3  4  5  6   7  ...  777  778  779  780  781  782  783  784\n",
            "1         2  0  0  0  0  0  0   0  ...    0    3  174  189   67    0    0    0\n",
            "6         4  0  0  0  0  0  0   0  ...   36   30   27   27    0    0    0    0\n",
            "10        4  0  0  0  0  0  0   0  ...    0   29  145  137   59    0    0    0\n",
            "14        4  0  0  0  0  0  0   0  ...  131    0    0    0    0    0    0    0\n",
            "16        2  0  0  0  0  0  0   0  ...    0    0   15  122  113   81    0    0\n",
            "...     ... .. .. .. .. .. ..  ..  ...  ...  ...  ...  ...  ...  ...  ...  ...\n",
            "9966      4  0  0  0  0  0  0   0  ...    0    0    1    0    0    0    0    0\n",
            "9970      2  0  0  0  0  0  0  17  ...    0    0  140  126   55    0    0    0\n",
            "9972      2  0  0  0  0  0  0   0  ...   84    0    0    0    0    0    0    0\n",
            "9985      2  0  0  0  0  0  0   0  ...   63    0    0    1    0    0    0    0\n",
            "9989      4  0  0  0  0  0  0   0  ...    0  134  143   46    0    0    0    0\n",
            "\n",
            "[2000 rows x 785 columns]\n"
          ]
        }
      ]
    },
    {
      "cell_type": "markdown",
      "metadata": {
        "id": "utSmJncUUg4o"
      },
      "source": [
        "### 1-2. 데이터 분할"
      ]
    },
    {
      "cell_type": "code",
      "metadata": {
        "id": "8d4GoFnhTyGa"
      },
      "source": [
        "X = df.iloc[:, 1:].values     # 데이터샘플\n",
        "y = df.iloc[:, 0].values      # 타겟레이블\n",
        "\n",
        "Top_X = Top_df.iloc[:, 1:].values     # 데이터샘플\n",
        "Top_y = Top_df.iloc[:, 0].values      # 타겟레이블\n",
        "\n",
        "Shoes_X = Shoes_df.iloc[:, 1:].values     # 데이터샘플\n",
        "Shoes_y = Shoes_df.iloc[:, 0].values      # 타겟레이블\n",
        "\n",
        "First_X = First_df.iloc[:, 1:].values     # 데이터샘플\n",
        "First_y = First_df.iloc[:, 0].values      # 타겟레이블\n",
        "\n",
        "Shirt_X = Shirt_df.iloc[:, 1:].values     # 데이터샘플\n",
        "Shirt_y = Shirt_df.iloc[:, 0].values      # 타겟레이블\n",
        "\n",
        "SweCoat_X = SweCoat_df.iloc[:, 1:].values     # 데이터샘플\n",
        "SweCoat_y = SweCoat_df.iloc[:, 0].values      # 타겟레이블\n",
        "\n",
        "#-------------------------------------------------------------------------------\n",
        "\n",
        "x_train, x_test, y_train, y_test = train_test_split(\n",
        "    X, y, test_size=0.5, random_state=R, stratify=y) #50%로 학습 테스트 데이터 쪼갬\n",
        "\n",
        "Top_x_train, Top_x_test, Top_y_train, Top_y_test = train_test_split(\n",
        "    Top_X, Top_y, test_size=0.5, random_state=R, stratify=Top_y) #50%로 학습 테스트 데이터 쪼갬\n",
        "\n",
        "Shoes_x_train, Shoes_x_test, Shoes_y_train, Shoes_y_test = train_test_split(\n",
        "    Shoes_X, Shoes_y, test_size=0.5, random_state=R, stratify=Shoes_y) #50%로 학습 테스트 데이터 쪼갬\n",
        "\n",
        "First_x_train, First_x_test, First_y_train, First_y_test = train_test_split(\n",
        "    First_X, First_y, test_size=0.5, random_state=R, stratify=First_y) #50%로 학습 테스트 데이터 쪼갬\n",
        "\n",
        "Shirt_x_train, Shirt_x_test, Shirt_y_train, Shirt_y_test = train_test_split(\n",
        "    Shirt_X, Shirt_y, test_size=0.5, random_state=R, stratify=Shirt_y) #50%로 학습 테스트 데이터 쪼갬\n",
        "\n",
        "SweCoat_x_train, SweCoat_x_test, SweCoat_y_train, SweCoat_y_test = train_test_split(\n",
        "    SweCoat_X, SweCoat_y, test_size=0.5, random_state=R, stratify=SweCoat_y) #50%로 학습 테스트 데이터 쪼갬"
      ],
      "execution_count": 3,
      "outputs": []
    },
    {
      "cell_type": "markdown",
      "metadata": {
        "id": "Ckiqmz3sT9Ng"
      },
      "source": [
        "### 1-3. Data Argumentation"
      ]
    },
    {
      "cell_type": "code",
      "metadata": {
        "id": "tpfkv3x7lVh-"
      },
      "source": [
        "def data_argu (x_train, y_train, x_test, y_test) :#좌우반전 데이터 추가\n",
        "  temp = np.reshape(x_train,(len(x_train)*28,28))\n",
        "  temp = np.fliplr(temp).copy()\n",
        "  temp = np.reshape(temp,(len(x_train),784))\n",
        "\n",
        "  x_train = np.append(x_train, temp, axis=0) \n",
        "  y_train = np.append(y_train, y_train, axis=0)\n",
        " \n",
        "  return x_train, y_train, x_test, y_test  \n",
        "\n",
        "Top_x_train, Top_y_train, Top_x_test, Top_y_test= data_argu(Top_x_train, Top_y_train, Top_x_test, Top_y_test) #상의 데이터 Argumentation"
      ],
      "execution_count": 4,
      "outputs": []
    },
    {
      "cell_type": "markdown",
      "metadata": {
        "id": "b0PaFqptVCNr"
      },
      "source": [
        "### 1-4. 데이터 표준화"
      ]
    },
    {
      "cell_type": "code",
      "metadata": {
        "id": "_plRYWeNU4e0"
      },
      "source": [
        "# 각 특성값을 표준화:\n",
        "sc = StandardScaler() \n",
        "sc.fit(x_train) #x_train 데이터의 평균값 표준편차 얻음\n",
        "x_train_std = sc.transform(x_train)\n",
        "x_test_std = sc.transform(x_test)\n",
        "\n",
        "sc.fit(Top_x_train) #Top_x_train 데이터의 평균값 표준편차 얻음\n",
        "Top_x_train_std = sc.transform(Top_x_train)\n",
        "Top_x_test_std = sc.transform(Top_x_test)\n",
        "\n",
        "sc.fit(Shoes_x_train) #Shoes_x_train 데이터의 평균값 표준편차 얻음\n",
        "Shoes_x_train_std = sc.transform(Shoes_x_train)\n",
        "Shoes_x_test_std = sc.transform(Shoes_x_test)\n",
        "\n",
        "sc.fit(First_x_train) #First_x_train 데이터의 평균값 표준편차 얻음\n",
        "First_x_train_std = sc.transform(First_x_train)\n",
        "First_x_test_std = sc.transform(First_x_test)\n",
        "\n",
        "sc.fit(Shirt_x_train) #Shirt_x_train 데이터의 평균값 표준편차 얻음\n",
        "Shirt_x_train_std = sc.transform(Shirt_x_train)\n",
        "Shirt_x_test_std = sc.transform(Shirt_x_test)\n",
        "\n",
        "sc.fit(SweCoat_x_train) #SweCoat_x_train 데이터의 평균값 표준편차 얻음\n",
        "SweCoat_x_train_std = sc.transform(SweCoat_x_train)\n",
        "SweCoat_x_test_std = sc.transform(SweCoat_x_test)\n"
      ],
      "execution_count": 5,
      "outputs": []
    },
    {
      "cell_type": "markdown",
      "metadata": {
        "id": "JRATAvNTTeTl"
      },
      "source": [
        "# **2. 라벨**"
      ]
    },
    {
      "cell_type": "code",
      "metadata": {
        "id": "LiLTH3AGAqsE"
      },
      "source": [
        "images = ['T-shirt', 'Trouser', 'Sweater', 'Dress', 'Coat', 'Sandal', 'Shirt', 'Sneaker', 'Bag', 'Boot']\n",
        "Top_images = ['T-shirt','Sweater','Dress','Coat','Shirt']\n",
        "Shoes_images = ['Sandal','Sneaker','Boot']\n",
        "First_images = ['Top','Trouser','Shoes','Bag']\n",
        "Shirt_images = ['T-shirt', 'Shirt']\n",
        "SweCoat_images = ['Sweater', 'Coat']"
      ],
      "execution_count": 6,
      "outputs": []
    },
    {
      "cell_type": "markdown",
      "metadata": {
        "id": "nFOw8v6KSuej"
      },
      "source": [
        "# **3. 모델**"
      ]
    },
    {
      "cell_type": "markdown",
      "metadata": {
        "id": "WqBX6s2jQgbe"
      },
      "source": [
        "###3-1. Logistic Regression"
      ]
    },
    {
      "cell_type": "code",
      "metadata": {
        "colab": {
          "base_uri": "https://localhost:8080/"
        },
        "id": "oa0RKoUoGntS",
        "outputId": "5d7cb37b-ccad-422a-dbc6-f8f621f02ff0"
      },
      "source": [
        "from sklearn.linear_model import LogisticRegression\n",
        "\n",
        "clf1 = LogisticRegression(C=1e-05, max_iter=100, multi_class='multinomial')\n",
        "Top_clf1 = LogisticRegression(C=1e-06, max_iter=1000, multi_class='multinomial')\n",
        "Shoes_clf1 = LogisticRegression(C=1e-05, max_iter=2000, multi_class='multinomial')\n",
        "First_clf1 = LogisticRegression(C=1e-06, max_iter=2000, multi_class='multinomial')\n",
        "Shirt_clf1 = LogisticRegression(C=1e-06, max_iter=5000, multi_class='multinomial')\n",
        "SweCoat_clf1 = LogisticRegression(C=1e-06, max_iter=1000, multi_class='multinomial')\n",
        "\n",
        "for modelname, xtrain, ytrain, xtrain_std, xtest, ytest, xtest_std in zip(\n",
        "                                     (clf1, Top_clf1, Shoes_clf1, First_clf1, Shirt_clf1, SweCoat_clf1),\n",
        "                                     (x_train, Top_x_train, Shoes_x_train, First_x_train, Shirt_x_train, SweCoat_x_train),\n",
        "                                     (y_train, Top_y_train, Shoes_y_train, First_y_train, Shirt_y_train, SweCoat_y_train),\n",
        "                                     (x_train_std, Top_x_train_std, Shoes_x_train_std, First_x_train_std, Shirt_x_train_std, SweCoat_x_train_std),\n",
        "                                     (x_test, Top_x_test, Shoes_x_test, First_x_test, Shirt_x_test, SweCoat_x_test),\n",
        "                                     (y_test, Top_y_test, Shoes_y_test, First_y_test, Shirt_y_test, SweCoat_y_test),\n",
        "                                     (x_test_std, Top_x_test_std, Shoes_x_test_std, First_x_test_std, Shirt_x_test_std, SweCoat_x_test_std)):\n",
        "  \n",
        "  modelname.fit(xtrain, ytrain) #xtrain_std\n",
        "\n",
        "  print(\"학습 데이터 점수: {}\".format(modelname.score(xtrain, ytrain)))\n",
        "  print(\"평가 데이터 점수: {}\".format(modelname.score(xtest, ytest)))\n",
        "  #print(\"표준화 학습 데이터 점수: {}\".format(modelname.score(xtrain_std, ytrain)))\n",
        "  #print(\"표준화 평가 데이터 점수: {}\".format(modelname.score(xtest_std, ytest)))\n",
        "\n"
      ],
      "execution_count": 7,
      "outputs": [
        {
          "output_type": "stream",
          "name": "stderr",
          "text": [
            "/usr/local/lib/python3.7/dist-packages/sklearn/linear_model/_logistic.py:818: ConvergenceWarning: lbfgs failed to converge (status=1):\n",
            "STOP: TOTAL NO. of ITERATIONS REACHED LIMIT.\n",
            "\n",
            "Increase the number of iterations (max_iter) or scale the data as shown in:\n",
            "    https://scikit-learn.org/stable/modules/preprocessing.html\n",
            "Please also refer to the documentation for alternative solver options:\n",
            "    https://scikit-learn.org/stable/modules/linear_model.html#logistic-regression\n",
            "  extra_warning_msg=_LOGISTIC_SOLVER_CONVERGENCE_MSG,\n"
          ]
        },
        {
          "output_type": "stream",
          "name": "stdout",
          "text": [
            "학습 데이터 점수: 0.9086\n",
            "평가 데이터 점수: 0.8098\n",
            "학습 데이터 점수: 0.798\n",
            "평가 데이터 점수: 0.7408\n"
          ]
        },
        {
          "output_type": "stream",
          "name": "stderr",
          "text": [
            "/usr/local/lib/python3.7/dist-packages/sklearn/linear_model/_logistic.py:818: ConvergenceWarning: lbfgs failed to converge (status=1):\n",
            "STOP: TOTAL NO. of ITERATIONS REACHED LIMIT.\n",
            "\n",
            "Increase the number of iterations (max_iter) or scale the data as shown in:\n",
            "    https://scikit-learn.org/stable/modules/preprocessing.html\n",
            "Please also refer to the documentation for alternative solver options:\n",
            "    https://scikit-learn.org/stable/modules/linear_model.html#logistic-regression\n",
            "  extra_warning_msg=_LOGISTIC_SOLVER_CONVERGENCE_MSG,\n"
          ]
        },
        {
          "output_type": "stream",
          "name": "stdout",
          "text": [
            "학습 데이터 점수: 0.9866666666666667\n",
            "평가 데이터 점수: 0.9193333333333333\n",
            "학습 데이터 점수: 0.988\n",
            "평가 데이터 점수: 0.9792\n",
            "학습 데이터 점수: 0.876\n",
            "평가 데이터 점수: 0.86\n",
            "학습 데이터 점수: 0.893\n",
            "평가 데이터 점수: 0.831\n"
          ]
        }
      ]
    },
    {
      "cell_type": "markdown",
      "metadata": {
        "id": "JpxJBYxIQncJ"
      },
      "source": [
        "### 3-2. SVM"
      ]
    },
    {
      "cell_type": "code",
      "metadata": {
        "colab": {
          "base_uri": "https://localhost:8080/"
        },
        "id": "SFFurl39Gwoy",
        "outputId": "85fb201a-2861-4e09-a28a-77e4e029a920"
      },
      "source": [
        "from sklearn.svm import SVC\n",
        "\n",
        "clf2 = SVC(C = 5, probability=True)\n",
        "Top_clf2 = SVC(C = 5, probability=True)\n",
        "Shoes_clf2 = SVC(C = 5, probability=True)\n",
        "First_clf2 = SVC(C = 5, probability=True)\n",
        "Shirt_clf2 = SVC(C = 5, probability=True)\n",
        "SweCoat_clf2 = SVC(C = 5, probability=True)\n",
        "\n",
        "for modelname, xtrain, ytrain, xtrain_std, xtest, ytest, xtest_std in zip(\n",
        "                                     (clf2, Top_clf2, Shoes_clf2, First_clf2, Shirt_clf2, SweCoat_clf2),\n",
        "                                     (x_train, Top_x_train, Shoes_x_train, First_x_train, Shirt_x_train, SweCoat_x_train),\n",
        "                                     (y_train, Top_y_train, Shoes_y_train, First_y_train, Shirt_y_train, SweCoat_y_train),\n",
        "                                     (x_train_std, Top_x_train_std, Shoes_x_train_std, First_x_train_std, Shirt_x_train_std, SweCoat_x_train_std),\n",
        "                                     (x_test, Top_x_test, Shoes_x_test, First_x_test, Shirt_x_test, SweCoat_x_test),\n",
        "                                     (y_test, Top_y_test, Shoes_y_test, First_y_test, Shirt_y_test, SweCoat_y_test),\n",
        "                                     (x_test_std, Top_x_test_std, Shoes_x_test_std, First_x_test_std, Shirt_x_test_std, SweCoat_x_test_std)):\n",
        "  \n",
        "  modelname.fit(xtrain_std, ytrain) #xtrain\n",
        "\n",
        "  #print(\"학습 데이터 점수: {}\".format(modelname.score(xtrain, ytrain)))\n",
        "  #print(\"평가 데이터 점수: {}\".format(modelname.score(xtest, ytest)))\n",
        "  print(\"표준화 학습 데이터 점수: {}\".format(modelname.score(xtrain_std, ytrain)))\n",
        "  print(\"표준화 평가 데이터 점수: {}\".format(modelname.score(xtest_std, ytest)))"
      ],
      "execution_count": 8,
      "outputs": [
        {
          "output_type": "stream",
          "name": "stdout",
          "text": [
            "표준화 학습 데이터 점수: 0.9782\n",
            "표준화 평가 데이터 점수: 0.8562\n",
            "표준화 학습 데이터 점수: 0.9752\n",
            "표준화 평가 데이터 점수: 0.7724\n",
            "표준화 학습 데이터 점수: 0.9966666666666667\n",
            "표준화 평가 데이터 점수: 0.9326666666666666\n",
            "표준화 학습 데이터 점수: 0.9984\n",
            "표준화 평가 데이터 점수: 0.9848\n",
            "표준화 학습 데이터 점수: 0.978\n",
            "표준화 평가 데이터 점수: 0.838\n",
            "표준화 학습 데이터 점수: 0.983\n",
            "표준화 평가 데이터 점수: 0.852\n"
          ]
        }
      ]
    },
    {
      "cell_type": "markdown",
      "metadata": {
        "id": "DEmXVYwBQxBH"
      },
      "source": [
        "### 3-3. kNN"
      ]
    },
    {
      "cell_type": "code",
      "metadata": {
        "colab": {
          "base_uri": "https://localhost:8080/"
        },
        "id": "uhb1u9W5G6z2",
        "outputId": "6e3cc495-529a-4379-832a-cad492a2aaa9"
      },
      "source": [
        "from sklearn.neighbors import KNeighborsClassifier\n",
        "\n",
        "clf3 = KNeighborsClassifier(n_neighbors=4) #가장 가까운 n개의 이웃샘플 확인\n",
        "Top_clf3 = KNeighborsClassifier(n_neighbors=6, weights='distance') \n",
        "Shoes_clf3 = KNeighborsClassifier(n_neighbors=4, weights='uniform') \n",
        "First_clf3 = KNeighborsClassifier(n_neighbors=4, weights='distance')\n",
        "Shirt_clf3 = KNeighborsClassifier(n_neighbors=12, weights='distance')\n",
        "SweCoat_clf3 = KNeighborsClassifier(n_neighbors=12, weights='distance') \n",
        "\n",
        "for modelname, xtrain, ytrain, xtrain_std, xtest, ytest, xtest_std in zip(\n",
        "                                     (clf3, Top_clf3, Shoes_clf3, First_clf3, Shirt_clf3, SweCoat_clf3),\n",
        "                                     (x_train, Top_x_train, Shoes_x_train, First_x_train, Shirt_x_train, SweCoat_x_train),\n",
        "                                     (y_train, Top_y_train, Shoes_y_train, First_y_train, Shirt_y_train, SweCoat_y_train),\n",
        "                                     (x_train_std, Top_x_train_std, Shoes_x_train_std, First_x_train_std, Shirt_x_train_std, SweCoat_x_train_std),\n",
        "                                     (x_test, Top_x_test, Shoes_x_test, First_x_test, Shirt_x_test, SweCoat_x_test),\n",
        "                                     (y_test, Top_y_test, Shoes_y_test, First_y_test, Shirt_y_test, SweCoat_y_test),\n",
        "                                     (x_test_std, Top_x_test_std, Shoes_x_test_std, First_x_test_std, Shirt_x_test_std, SweCoat_x_test_std)):\n",
        "  \n",
        "  modelname.fit(xtrain_std, ytrain) #xtrain\n",
        "  #print(\"학습 데이터 점수: {}\".format(modelname.score(xtrain, ytrain)))\n",
        "  #print(\"평가 데이터 점수: {}\".format(modelname.score(xtest, ytest)))\n",
        "  print(\"표준화 학습 데이터 점수: {}\".format(modelname.score(xtrain_std, ytrain)))\n",
        "  print(\"표준화 평가 데이터 점수: {}\".format(modelname.score(xtest_std, ytest)))"
      ],
      "execution_count": 9,
      "outputs": [
        {
          "output_type": "stream",
          "name": "stdout",
          "text": [
            "표준화 학습 데이터 점수: 0.8698\n",
            "표준화 평가 데이터 점수: 0.8048\n",
            "표준화 학습 데이터 점수: 1.0\n",
            "표준화 평가 데이터 점수: 0.722\n",
            "표준화 학습 데이터 점수: 0.9293333333333333\n",
            "표준화 평가 데이터 점수: 0.8906666666666667\n",
            "표준화 학습 데이터 점수: 1.0\n",
            "표준화 평가 데이터 점수: 0.9824\n",
            "표준화 학습 데이터 점수: 1.0\n",
            "표준화 평가 데이터 점수: 0.828\n",
            "표준화 학습 데이터 점수: 1.0\n",
            "표준화 평가 데이터 점수: 0.82\n"
          ]
        }
      ]
    },
    {
      "cell_type": "markdown",
      "source": [
        "### 3-4. XGBoost"
      ],
      "metadata": {
        "id": "EvPyMLOLFpjy"
      }
    },
    {
      "cell_type": "code",
      "source": [
        "import xgboost as xgb\n",
        "\n",
        "clf4 = xgb.XGBClassifier(min_child_weight=10, max_depth=8)\n",
        "Top_clf4 = xgb.XGBClassifier(min_child_weight=2, max_depth=6)\n",
        "Shoes_clf4 = xgb.XGBClassifier(min_child_weight=10, max_depth=8)\n",
        "First_clf4 = xgb.XGBClassifier(min_child_weight=2, max_depth=8)\n",
        "Shirt_clf4 = xgb.XGBClassifier(min_child_weight=10, max_depth=8)\n",
        "SweCoat_clf4 = xgb.XGBClassifier(min_child_weight=10, max_depth=8)\n",
        "\n",
        "for modelname, xtrain, ytrain, xtrain_std, xtest, ytest, xtest_std in zip(\n",
        "                                     (clf4, Top_clf4, Shoes_clf4, First_clf4, Shirt_clf4, SweCoat_clf4),\n",
        "                                     (x_train, Top_x_train, Shoes_x_train, First_x_train, Shirt_x_train, SweCoat_x_train),\n",
        "                                     (y_train, Top_y_train, Shoes_y_train, First_y_train, Shirt_y_train, SweCoat_y_train),\n",
        "                                     (x_train_std, Top_x_train_std, Shoes_x_train_std, First_x_train_std, Shirt_x_train_std, SweCoat_x_train_std),\n",
        "                                     (x_test, Top_x_test, Shoes_x_test, First_x_test, Shirt_x_test, SweCoat_x_test),\n",
        "                                     (y_test, Top_y_test, Shoes_y_test, First_y_test, Shirt_y_test, SweCoat_y_test),\n",
        "                                     (x_test_std, Top_x_test_std, Shoes_x_test_std, First_x_test_std, Shirt_x_test_std, SweCoat_x_test_std)):\n",
        "\n",
        "  modelname.fit(xtrain, ytrain) #xtrain_std\n",
        "  print(\"학습 데이터 점수: {}\".format(modelname.score(xtrain, ytrain)))\n",
        "  print(\"평가 데이터 점수: {}\".format(modelname.score(xtest, ytest)))\n",
        "  #print(\"표준화 학습 데이터 점수: {}\".format(modelname.score(xtrain_std, ytrain)))\n",
        "  #print(\"표준화 평가 데이터 점수: {}\".format(modelname.score(xtest_std, ytest)))"
      ],
      "metadata": {
        "colab": {
          "base_uri": "https://localhost:8080/"
        },
        "id": "bgZMJQaMmtEV",
        "outputId": "d9e63f77-ed3a-40bf-c5fa-1c7dc4734b9c"
      },
      "execution_count": 10,
      "outputs": [
        {
          "output_type": "stream",
          "name": "stdout",
          "text": [
            "학습 데이터 점수: 0.9998\n",
            "평가 데이터 점수: 0.8584\n",
            "학습 데이터 점수: 1.0\n",
            "평가 데이터 점수: 0.788\n",
            "학습 데이터 점수: 1.0\n",
            "평가 데이터 점수: 0.9346666666666666\n",
            "학습 데이터 점수: 1.0\n",
            "평가 데이터 점수: 0.9856\n",
            "학습 데이터 점수: 0.988\n",
            "평가 데이터 점수: 0.834\n",
            "학습 데이터 점수: 0.992\n",
            "평가 데이터 점수: 0.843\n"
          ]
        }
      ]
    },
    {
      "cell_type": "markdown",
      "metadata": {
        "id": "WCGEsDC2Q3qS"
      },
      "source": [
        "### 3-5. Ensemble"
      ]
    },
    {
      "cell_type": "code",
      "metadata": {
        "colab": {
          "base_uri": "https://localhost:8080/"
        },
        "id": "MIsbjmKwG9VK",
        "outputId": "638824cc-c3b7-409f-a940-8262ccfce34d"
      },
      "source": [
        "from sklearn.ensemble import VotingClassifier #앙상블 다수결 기능\n",
        "\n",
        "\n",
        "eclf = VotingClassifier(estimators=[('lr', clf1), ('svc', clf2), ('knn', clf3), ('xgb', clf4)], voting='soft')\n",
        "Top_eclf = VotingClassifier(estimators=[('lr', Top_clf1), ('svc', Top_clf2), ('knn', Top_clf3), ('xgb', Top_clf4)], voting='soft')\n",
        "Shoes_eclf = VotingClassifier(estimators=[('lr', Shoes_clf1), ('svc', Shoes_clf2), ('knn', Shoes_clf3), ('xgb', Shoes_clf4)], voting='soft')\n",
        "First_eclf = VotingClassifier(estimators=[('lr', First_clf1), ('svc', First_clf2), ('knn', First_clf3), ('xgb', First_clf4)], voting='soft')\n",
        "Shirt_eclf = VotingClassifier(estimators=[('lr', Shirt_clf1), ('svc', Shirt_clf2), ('knn', Shirt_clf3), ('xgb', Shirt_clf4)], voting='soft')\n",
        "SweCoat_eclf = VotingClassifier(estimators=[('lr', SweCoat_clf1), ('svc', SweCoat_clf2), ('knn', SweCoat_clf3), ('xgb', SweCoat_clf4)], voting='soft')\n",
        "\n",
        "for modelname, xtrain, ytrain, xtrain_std, xtest, ytest, xtest_std in zip(\n",
        "                                     (eclf, Top_eclf, Shoes_eclf, First_eclf, Shirt_eclf, SweCoat_eclf),\n",
        "                                     (x_train, Top_x_train, Shoes_x_train, First_x_train, Shirt_x_train, SweCoat_x_train),\n",
        "                                     (y_train, Top_y_train, Shoes_y_train, First_y_train, Shirt_y_train, SweCoat_y_train),\n",
        "                                     (x_train_std, Top_x_train_std, Shoes_x_train_std, First_x_train_std, Shirt_x_train_std, SweCoat_x_train_std),\n",
        "                                     (x_test, Top_x_test, Shoes_x_test, First_x_test, Shirt_x_test, SweCoat_x_test),\n",
        "                                     (y_test, Top_y_test, Shoes_y_test, First_y_test, Shirt_y_test, SweCoat_y_test),\n",
        "                                     (x_test_std, Top_x_test_std, Shoes_x_test_std, First_x_test_std, Shirt_x_test_std, SweCoat_x_test_std)):\n",
        "  \n",
        "  modelname.fit(xtrain, ytrain) #xtrain_std\n",
        "\n",
        "  print(\"학습 데이터 점수: {}\".format(modelname.score(xtrain, ytrain)))\n",
        "  print(\"평가 데이터 점수: {}\".format(modelname.score(xtest, ytest)))\n",
        "  #print(\"표준화 학습 데이터 점수: {}\".format(modelname.score(xtrain_std, ytrain)))\n",
        "  #print(\"표준화 평가 데이터 점수: {}\".format(modelname.score(xtest_std, ytest)))"
      ],
      "execution_count": 11,
      "outputs": [
        {
          "metadata": {
            "tags": null
          },
          "name": "stderr",
          "output_type": "stream",
          "text": [
            "/usr/local/lib/python3.7/dist-packages/sklearn/linear_model/_logistic.py:818: ConvergenceWarning: lbfgs failed to converge (status=1):\n",
            "STOP: TOTAL NO. of ITERATIONS REACHED LIMIT.\n",
            "\n",
            "Increase the number of iterations (max_iter) or scale the data as shown in:\n",
            "    https://scikit-learn.org/stable/modules/preprocessing.html\n",
            "Please also refer to the documentation for alternative solver options:\n",
            "    https://scikit-learn.org/stable/modules/linear_model.html#logistic-regression\n",
            "  extra_warning_msg=_LOGISTIC_SOLVER_CONVERGENCE_MSG,\n"
          ]
        },
        {
          "output_type": "stream",
          "name": "stdout",
          "text": [
            "학습 데이터 점수: 0.9758\n",
            "평가 데이터 점수: 0.8594\n",
            "학습 데이터 점수: 0.996\n",
            "평가 데이터 점수: 0.788\n"
          ]
        },
        {
          "output_type": "stream",
          "name": "stderr",
          "text": [
            "/usr/local/lib/python3.7/dist-packages/sklearn/linear_model/_logistic.py:818: ConvergenceWarning: lbfgs failed to converge (status=1):\n",
            "STOP: TOTAL NO. of ITERATIONS REACHED LIMIT.\n",
            "\n",
            "Increase the number of iterations (max_iter) or scale the data as shown in:\n",
            "    https://scikit-learn.org/stable/modules/preprocessing.html\n",
            "Please also refer to the documentation for alternative solver options:\n",
            "    https://scikit-learn.org/stable/modules/linear_model.html#logistic-regression\n",
            "  extra_warning_msg=_LOGISTIC_SOLVER_CONVERGENCE_MSG,\n"
          ]
        },
        {
          "output_type": "stream",
          "name": "stdout",
          "text": [
            "학습 데이터 점수: 0.9953333333333333\n",
            "평가 데이터 점수: 0.934\n",
            "학습 데이터 점수: 0.9988\n",
            "평가 데이터 점수: 0.9858\n",
            "학습 데이터 점수: 0.987\n",
            "평가 데이터 점수: 0.859\n",
            "학습 데이터 점수: 0.989\n",
            "평가 데이터 점수: 0.843\n"
          ]
        }
      ]
    },
    {
      "cell_type": "markdown",
      "metadata": {
        "id": "Oy79u85_RBOK"
      },
      "source": [
        "# **4. 멀티스테이지 결과 결합 함수**"
      ]
    },
    {
      "cell_type": "code",
      "metadata": {
        "id": "QhrGmq9rVfD-"
      },
      "source": [
        "  def predict (x_data) :\n",
        "    First_Predict = First_eclf.predict(x_data) # 0,1,5,8 (Top,Trouser,Shoes,Bag)\n",
        "    Top_Predict = Top_eclf.predict(x_data) # 0,2,3 (Shirt,SweCoat,Dress)\n",
        "    Shoes_Predict = Shoes_eclf.predict(x_data)\n",
        "    Shirt_Predict = Shirt_eclf.predict(x_data)\n",
        "    SweCoat_Predict = SweCoat_eclf.predict(x_data)\n",
        "    \n",
        "    Final_Predict = First_Predict\n",
        "    for i in range(0,5000):\n",
        "     if(First_Predict[i] == 0):\n",
        "       Final_Predict[i] = Top_Predict[i]\n",
        "       #if(Top_Predict[i] == 0): #T셔츠-셔츠  (3차 분류용)\n",
        "        #Final_Predict[i] = Shirt_Predict[i]\n",
        "       #elif(Top_Predict[i] == 2): #스웨터-코트\n",
        "        #Final_Predict[i] = SweCoat_Predict[i]\n",
        "     elif(First_Predict[i] == 5):\n",
        "       Final_Predict[i] = Shoes_Predict[i]\n",
        "\n",
        "    return Final_Predict"
      ],
      "execution_count": 12,
      "outputs": []
    },
    {
      "cell_type": "markdown",
      "metadata": {
        "id": "AMPOuxxMRPOg"
      },
      "source": [
        "# **5. 그래프**"
      ]
    },
    {
      "cell_type": "code",
      "metadata": {
        "id": "JobQ1ybnHO61",
        "colab": {
          "base_uri": "https://localhost:8080/",
          "height": 798
        },
        "outputId": "63e9c292-d1ce-497d-c609-fb729d0ebb52"
      },
      "source": [
        "from sklearn.metrics import confusion_matrix\n",
        "from sklearn.metrics import ConfusionMatrixDisplay\n",
        "\n",
        "plt.rcParams['figure.figsize'] = (10,10)\n",
        "\n",
        "correct = (y_train == predict(x_train)).sum().item()\n",
        "accuracy = (correct/5000)\n",
        "print(f'학습 데이터 점수:{accuracy}')\n",
        "\n",
        "correct = (y_test == predict(x_test)).sum().item()\n",
        "accuracy = (correct/5000)\n",
        "print(f'평가 데이터 점수:{accuracy}')\n",
        "\n",
        "cm = confusion_matrix(y_test, predict(x_test), normalize='true')\n",
        "print(cm)\n",
        "\n",
        "cm_display = ConfusionMatrixDisplay(cm, display_labels=images).plot(cmap=plt.cm.Blues)"
      ],
      "execution_count": 13,
      "outputs": [
        {
          "output_type": "stream",
          "name": "stdout",
          "text": [
            "학습 데이터 점수:0.936\n",
            "평가 데이터 점수:0.9208\n",
            "[[0.866 0.    0.022 0.03  0.002 0.    0.07  0.    0.01  0.   ]\n",
            " [0.    0.988 0.    0.008 0.    0.    0.004 0.    0.    0.   ]\n",
            " [0.01  0.    0.892 0.006 0.05  0.    0.042 0.    0.    0.   ]\n",
            " [0.014 0.004 0.002 0.948 0.01  0.    0.022 0.    0.    0.   ]\n",
            " [0.    0.    0.05  0.026 0.874 0.    0.046 0.    0.004 0.   ]\n",
            " [0.    0.    0.    0.    0.    0.962 0.    0.016 0.002 0.02 ]\n",
            " [0.096 0.002 0.062 0.014 0.042 0.    0.776 0.    0.008 0.   ]\n",
            " [0.    0.    0.    0.    0.    0.016 0.    0.956 0.    0.028]\n",
            " [0.    0.002 0.002 0.01  0.    0.002 0.01  0.002 0.97  0.002]\n",
            " [0.    0.    0.    0.    0.    0.006 0.    0.016 0.002 0.976]]\n"
          ]
        },
        {
          "output_type": "display_data",
          "data": {
            "image/png": "[encoded data removed]",
            "text/plain": [
              "<Figure size 720x720 with 2 Axes>"
            ]
          },
          "metadata": {
            "needs_background": "light"
          }
        }
      ]
    }
  ]
}